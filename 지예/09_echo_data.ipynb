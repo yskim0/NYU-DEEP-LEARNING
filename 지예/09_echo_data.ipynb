{
  "nbformat": 4,
  "nbformat_minor": 0,
  "metadata": {
    "kernelspec": {
      "display_name": "Python [conda env:dl-minicourse] *",
      "language": "python",
      "name": "conda-env-dl-minicourse-py"
    },
    "language_info": {
      "codemirror_mode": {
        "name": "ipython",
        "version": 3
      },
      "file_extension": ".py",
      "mimetype": "text/x-python",
      "name": "python",
      "nbconvert_exporter": "python",
      "pygments_lexer": "ipython3",
      "version": "3.7.3"
    },
    "colab": {
      "name": "09-echo_data.ipynb",
      "provenance": [],
      "toc_visible": true
    }
  },
  "cells": [
    {
      "cell_type": "markdown",
      "metadata": {
        "id": "WP-yGAqUsS32",
        "colab_type": "text"
      },
      "source": [
        "# Signal echoing\n",
        "\n",
        "Echoing signal `n` steps is an example of synchronized many-to-many task."
      ]
    },
    {
      "cell_type": "code",
      "metadata": {
        "id": "RkSJZuHmz2Lh",
        "colab_type": "code",
        "colab": {
          "resources": {
            "http://localhost:8080/nbextensions/google.colab/files.js": {
              "data": "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",
              "ok": true,
              "headers": [
                [
                  "content-type",
                  "application/javascript"
                ]
              ],
              "status": 200,
              "status_text": ""
            }
          },
          "base_uri": "https://localhost:8080/",
          "height": 110
        },
        "outputId": "5202bc17-5ffa-45df-fd25-3dee984aee97"
      },
      "source": [
        "from google.colab import files\n",
        "uploaded = files.upload()"
      ],
      "execution_count": 1,
      "outputs": [
        {
          "output_type": "display_data",
          "data": {
            "text/html": [
              "\n",
              "     <input type=\"file\" id=\"files-992206a6-e416-47c9-b5cc-425943041ee9\" name=\"files[]\" multiple disabled\n",
              "        style=\"border:none\" />\n",
              "     <output id=\"result-992206a6-e416-47c9-b5cc-425943041ee9\">\n",
              "      Upload widget is only available when the cell has been executed in the\n",
              "      current browser session. Please rerun this cell to enable.\n",
              "      </output>\n",
              "      <script src=\"/nbextensions/google.colab/files.js\"></script> "
            ],
            "text/plain": [
              "<IPython.core.display.HTML object>"
            ]
          },
          "metadata": {
            "tags": []
          }
        },
        {
          "output_type": "stream",
          "text": [
            "Saving plot_lib.py to plot_lib.py\n",
            "Saving sequential_tasks.py to sequential_tasks.py\n"
          ],
          "name": "stdout"
        }
      ]
    },
    {
      "cell_type": "code",
      "metadata": {
        "id": "PkGR2kOqsS34",
        "colab_type": "code",
        "colab": {}
      },
      "source": [
        "from sequential_tasks import EchoData\n",
        "import torch\n",
        "import torch.nn as nn\n",
        "# import torch.nn.functional as F\n",
        "import torch.optim as optim\n",
        "\n",
        "torch.manual_seed(1);"
      ],
      "execution_count": 2,
      "outputs": []
    },
    {
      "cell_type": "code",
      "metadata": {
        "id": "6p0yNyCFsS38",
        "colab_type": "code",
        "colab": {}
      },
      "source": [
        "batch_size = 5\n",
        "echo_step = 3\n",
        "series_length = 20_000\n",
        "BPTT_T = 20\n",
        "\n",
        "train_data = EchoData(\n",
        "    echo_step=echo_step,\n",
        "    batch_size=batch_size,\n",
        "    series_length=series_length,\n",
        "    truncated_length=BPTT_T,\n",
        ")\n",
        "train_size = len(train_data)\n",
        "\n",
        "test_data = EchoData(\n",
        "    echo_step=echo_step,\n",
        "    batch_size=batch_size,\n",
        "    series_length=series_length,\n",
        "    truncated_length=BPTT_T,\n",
        ")\n",
        "test_size = len(test_data)"
      ],
      "execution_count": 3,
      "outputs": []
    },
    {
      "cell_type": "code",
      "metadata": {
        "id": "nOzM5RLNsS3_",
        "colab_type": "code",
        "colab": {
          "base_uri": "https://localhost:8080/",
          "height": 52
        },
        "outputId": "15e33231-e52b-4aea-e649-e818faa71e2b"
      },
      "source": [
        "# Let's print first 20 timesteps of the first sequences to see the echo data:\n",
        "print('(1st input sequence)  x:', *train_data.x_batch[0, :20], '... ')\n",
        "print('(1st target sequence) y:', *train_data.y_batch[0, :20], '... ')"
      ],
      "execution_count": 4,
      "outputs": [
        {
          "output_type": "stream",
          "text": [
            "(1st input sequence)  x: 0 0 0 1 1 0 1 1 0 0 0 1 0 1 0 1 1 1 0 1 ... \n",
            "(1st target sequence) y: 0 0 0 0 0 0 1 1 0 1 1 0 0 0 1 0 1 0 1 1 ... \n"
          ],
          "name": "stdout"
        }
      ]
    },
    {
      "cell_type": "code",
      "metadata": {
        "id": "r7NplpcWsS4C",
        "colab_type": "code",
        "colab": {
          "base_uri": "https://localhost:8080/",
          "height": 281
        },
        "outputId": "03027dc7-dbee-485c-d374-a54eec8bce7f"
      },
      "source": [
        "# batch_size different sequences are created:\n",
        "print('x_batch:', *(str(d)[1:-1] + ' ...' for d in train_data.x_batch[:, :20]), sep='\\n')\n",
        "print('x_batch size:', train_data.x_batch.shape)\n",
        "print()\n",
        "print('y_batch:', *(str(d)[1:-1] + ' ...' for d in train_data.y_batch[:, :20]), sep='\\n')\n",
        "print('y_batch size:', train_data.y_batch.shape)"
      ],
      "execution_count": 5,
      "outputs": [
        {
          "output_type": "stream",
          "text": [
            "x_batch:\n",
            "0 0 0 1 1 0 1 1 0 0 0 1 0 1 0 1 1 1 0 1 ...\n",
            "1 1 0 0 0 0 1 0 1 1 0 0 0 0 1 0 0 1 1 0 ...\n",
            "1 1 0 1 0 0 0 1 0 0 0 1 0 0 0 0 1 1 1 1 ...\n",
            "1 0 0 1 0 0 0 1 0 0 0 0 0 0 0 1 0 1 1 1 ...\n",
            "0 1 0 1 0 1 0 0 1 1 0 0 0 1 0 0 1 0 1 0 ...\n",
            "x_batch size: (5, 20000)\n",
            "\n",
            "y_batch:\n",
            "0 0 0 0 0 0 1 1 0 1 1 0 0 0 1 0 1 0 1 1 ...\n",
            "0 0 0 1 1 0 0 0 0 1 0 1 1 0 0 0 0 1 0 0 ...\n",
            "0 0 0 1 1 0 1 0 0 0 1 0 0 0 1 0 0 0 0 1 ...\n",
            "0 0 0 1 0 0 1 0 0 0 1 0 0 0 0 0 0 0 1 0 ...\n",
            "0 0 0 0 1 0 1 0 1 0 0 1 1 0 0 0 1 0 0 1 ...\n",
            "y_batch size: (5, 20000)\n"
          ],
          "name": "stdout"
        }
      ]
    },
    {
      "cell_type": "code",
      "metadata": {
        "id": "MivfQjaRsS4F",
        "colab_type": "code",
        "colab": {
          "base_uri": "https://localhost:8080/",
          "height": 281
        },
        "outputId": "fe2db675-d8a7-4eaf-bb09-d4b2160da9b2"
      },
      "source": [
        "# In order to use RNNs data is organized into temporal\n",
        "# chunks of size [batch_size, T, feature_dim]\n",
        "print('x_chunk:', *train_data.x_chunks[0].squeeze(), sep='\\n')\n",
        "print('1st x_chunk size:', train_data.x_chunks[0].shape)\n",
        "print()\n",
        "print('y_chunk:', *train_data.y_chunks[0].squeeze(), sep='\\n')\n",
        "print('1st y_chunk size:', train_data.y_chunks[0].shape)"
      ],
      "execution_count": 6,
      "outputs": [
        {
          "output_type": "stream",
          "text": [
            "x_chunk:\n",
            "[0 0 0 1 1 0 1 1 0 0 0 1 0 1 0 1 1 1 0 1]\n",
            "[1 1 0 0 0 0 1 0 1 1 0 0 0 0 1 0 0 1 1 0]\n",
            "[1 1 0 1 0 0 0 1 0 0 0 1 0 0 0 0 1 1 1 1]\n",
            "[1 0 0 1 0 0 0 1 0 0 0 0 0 0 0 1 0 1 1 1]\n",
            "[0 1 0 1 0 1 0 0 1 1 0 0 0 1 0 0 1 0 1 0]\n",
            "1st x_chunk size: (5, 20, 1)\n",
            "\n",
            "y_chunk:\n",
            "[0 0 0 0 0 0 1 1 0 1 1 0 0 0 1 0 1 0 1 1]\n",
            "[0 0 0 1 1 0 0 0 0 1 0 1 1 0 0 0 0 1 0 0]\n",
            "[0 0 0 1 1 0 1 0 0 0 1 0 0 0 1 0 0 0 0 1]\n",
            "[0 0 0 1 0 0 1 0 0 0 1 0 0 0 0 0 0 0 1 0]\n",
            "[0 0 0 0 1 0 1 0 1 0 0 1 1 0 0 0 1 0 0 1]\n",
            "1st y_chunk size: (5, 20, 1)\n"
          ],
          "name": "stdout"
        }
      ]
    },
    {
      "cell_type": "code",
      "metadata": {
        "id": "A8Pg8L2bsS4J",
        "colab_type": "code",
        "colab": {}
      },
      "source": [
        "class SimpleRNN(nn.Module):\n",
        "    def __init__(self, input_size, rnn_hidden_size, output_size):\n",
        "        super().__init__()\n",
        "        self.rnn_hidden_size = rnn_hidden_size\n",
        "        self.rnn = torch.nn.RNN(\n",
        "            input_size=input_size,\n",
        "            hidden_size=rnn_hidden_size,\n",
        "            num_layers=1,\n",
        "            nonlinearity='relu',\n",
        "            batch_first=True\n",
        "        )\n",
        "        self.linear = torch.nn.Linear(\n",
        "            in_features=rnn_hidden_size,\n",
        "            out_features=1\n",
        "        )\n",
        "\n",
        "    def forward(self, x, hidden):\n",
        "        x, hidden = self.rnn(x, hidden)  \n",
        "        x = self.linear(x)\n",
        "        return x, hidden"
      ],
      "execution_count": 7,
      "outputs": []
    },
    {
      "cell_type": "code",
      "metadata": {
        "id": "8JStSRWosS4M",
        "colab_type": "code",
        "colab": {}
      },
      "source": [
        "device = torch.device(\"cuda:0\" if torch.cuda.is_available() else \"cpu\")"
      ],
      "execution_count": 8,
      "outputs": []
    },
    {
      "cell_type": "code",
      "metadata": {
        "id": "hwTKscirsS4c",
        "colab_type": "code",
        "colab": {}
      },
      "source": [
        "def train(hidden):\n",
        "    model.train()\n",
        "       \n",
        "    correct = 0\n",
        "    for batch_idx in range(train_size):\n",
        "        data, target = train_data[batch_idx]\n",
        "        data, target = torch.from_numpy(data).float().to(device), torch.from_numpy(target).float().to(device)\n",
        "        optimizer.zero_grad()\n",
        "        if hidden is not None: hidden.detach_()\n",
        "        logits, hidden = model(data, hidden)\n",
        "        loss = criterion(logits, target)\n",
        "        loss.backward()\n",
        "        optimizer.step()\n",
        "        \n",
        "        pred = (torch.sigmoid(logits) > 0.5)\n",
        "        correct += (pred == target.byte()).int().sum().item()\n",
        "        \n",
        "    return correct, loss.item(), hidden"
      ],
      "execution_count": 9,
      "outputs": []
    },
    {
      "cell_type": "code",
      "metadata": {
        "id": "UVN87QaYsS4g",
        "colab_type": "code",
        "colab": {}
      },
      "source": [
        "def test(hidden):\n",
        "    model.eval()   \n",
        "    correct = 0\n",
        "    with torch.no_grad():\n",
        "        for batch_idx in range(test_size):\n",
        "            data, target = test_data[batch_idx]\n",
        "            data, target = torch.from_numpy(data).float().to(device), torch.from_numpy(target).float().to(device)\n",
        "            logits, hidden = model(data, hidden)\n",
        "            \n",
        "            pred = (torch.sigmoid(logits) > 0.5)\n",
        "            correct += (pred == target.byte()).int().sum().item()\n",
        "\n",
        "    return correct"
      ],
      "execution_count": 10,
      "outputs": []
    },
    {
      "cell_type": "code",
      "metadata": {
        "id": "St0h0cEusS4o",
        "colab_type": "code",
        "colab": {}
      },
      "source": [
        "feature_dim = 1 #since we have a scalar series\n",
        "h_units = 4\n",
        "\n",
        "model = SimpleRNN(\n",
        "    input_size=1,\n",
        "    rnn_hidden_size=h_units,\n",
        "    output_size=feature_dim\n",
        ").to(device)\n",
        "hidden = None\n",
        "        \n",
        "criterion = torch.nn.BCEWithLogitsLoss()\n",
        "optimizer = torch.optim.RMSprop(model.parameters(), lr=0.001)"
      ],
      "execution_count": 11,
      "outputs": []
    },
    {
      "cell_type": "code",
      "metadata": {
        "id": "dAP7fwE4sS4r",
        "colab_type": "code",
        "colab": {
          "base_uri": "https://localhost:8080/",
          "height": 122
        },
        "outputId": "a8221b5b-94c0-4ae9-d17e-2d4269921d4b"
      },
      "source": [
        "n_epochs = 5\n",
        "epoch = 0\n",
        "\n",
        "while epoch < n_epochs:\n",
        "    correct, loss, hidden = train(hidden)\n",
        "    epoch += 1\n",
        "    train_accuracy = float(correct) / train_size\n",
        "    print(f'Train Epoch: {epoch}/{n_epochs}, loss: {loss:.3f}, accuracy {train_accuracy:.1f}%')\n",
        "\n",
        "#test    \n",
        "correct = test(hidden)\n",
        "test_accuracy = float(correct) / test_size\n",
        "print(f'Test accuracy: {test_accuracy:.1f}%')"
      ],
      "execution_count": 12,
      "outputs": [
        {
          "output_type": "stream",
          "text": [
            "Train Epoch: 1/5, loss: 0.627, accuracy 56.7%\n",
            "Train Epoch: 2/5, loss: 0.602, accuracy 63.3%\n",
            "Train Epoch: 3/5, loss: 0.576, accuracy 66.0%\n",
            "Train Epoch: 4/5, loss: 0.019, accuracy 85.5%\n",
            "Train Epoch: 5/5, loss: 0.000, accuracy 100.0%\n",
            "Test accuracy: 100.0%\n"
          ],
          "name": "stdout"
        }
      ]
    },
    {
      "cell_type": "code",
      "metadata": {
        "id": "ZPRU1bfQsS4x",
        "colab_type": "code",
        "colab": {
          "base_uri": "https://localhost:8080/",
          "height": 281
        },
        "outputId": "bb5c31d0-40d4-4ece-c696-73efc283a28d"
      },
      "source": [
        "# Let's try some echoing\n",
        "my_input = torch.empty(1, 100, 1).random_(2).to(device)\n",
        "hidden = None\n",
        "my_out, _ = model(my_input, hidden)\n",
        "print(my_input.view(1, -1).byte(), (my_out > 0).view(1, -1), sep='\\n')"
      ],
      "execution_count": 13,
      "outputs": [
        {
          "output_type": "stream",
          "text": [
            "tensor([[1, 1, 1, 1, 0, 0, 0, 1, 1, 1, 1, 1, 1, 0, 1, 1, 0, 0, 1, 0, 0, 1, 1, 1,\n",
            "         0, 1, 0, 0, 1, 1, 0, 1, 1, 1, 1, 0, 0, 1, 1, 0, 0, 0, 0, 1, 1, 1, 0, 1,\n",
            "         0, 0, 1, 1, 0, 1, 1, 0, 1, 0, 0, 1, 1, 1, 0, 1, 1, 0, 1, 1, 1, 1, 0, 0,\n",
            "         0, 0, 0, 1, 1, 1, 1, 1, 1, 1, 0, 0, 0, 0, 0, 0, 1, 1, 1, 1, 1, 1, 0, 0,\n",
            "         1, 1, 0, 0]], dtype=torch.uint8)\n",
            "tensor([[ True,  True,  True,  True,  True,  True,  True, False, False, False,\n",
            "          True,  True,  True,  True,  True,  True, False,  True,  True, False,\n",
            "         False,  True, False, False,  True,  True,  True, False,  True, False,\n",
            "         False,  True,  True, False,  True,  True,  True,  True, False, False,\n",
            "          True,  True, False, False, False, False,  True,  True,  True, False,\n",
            "          True, False, False,  True,  True, False,  True,  True, False,  True,\n",
            "         False, False,  True,  True,  True, False,  True,  True, False,  True,\n",
            "          True,  True,  True, False, False, False, False, False,  True,  True,\n",
            "          True,  True,  True,  True,  True, False, False, False, False, False,\n",
            "         False,  True,  True,  True,  True,  True,  True, False, False,  True]])\n"
          ],
          "name": "stdout"
        }
      ]
    }
  ]
}